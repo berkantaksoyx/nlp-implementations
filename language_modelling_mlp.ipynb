{
 "cells": [
  {
   "cell_type": "code",
   "execution_count": 1,
   "id": "initial_id",
   "metadata": {
    "collapsed": true,
    "ExecuteTime": {
     "end_time": "2024-09-03T08:57:29.244873100Z",
     "start_time": "2024-09-03T08:57:18.094557800Z"
    }
   },
   "outputs": [],
   "source": [
    "import torch\n",
    "import torch.nn.functional as F\n",
    "import matplotlib.pyplot as plt\n",
    "from tornado.websocket import WebSocketProtocol13\n",
    "%matplotlib inline"
   ]
  },
  {
   "cell_type": "code",
   "outputs": [
    {
     "data": {
      "text/plain": "['emma', 'olivia', 'ava', 'isabella', 'sophia', 'charlotte', 'mia', 'amelia']"
     },
     "execution_count": 2,
     "metadata": {},
     "output_type": "execute_result"
    }
   ],
   "source": [
    "#read all the words\n",
    "words = open('names.txt', 'r').read().splitlines()\n",
    "words[:8]"
   ],
   "metadata": {
    "collapsed": false,
    "ExecuteTime": {
     "end_time": "2024-09-03T08:57:29.346411100Z",
     "start_time": "2024-09-03T08:57:29.245873200Z"
    }
   },
   "id": "8b573ce4fd81c391",
   "execution_count": 2
  },
  {
   "cell_type": "code",
   "outputs": [
    {
     "data": {
      "text/plain": "32033"
     },
     "execution_count": 3,
     "metadata": {},
     "output_type": "execute_result"
    }
   ],
   "source": [
    "len(words)\n"
   ],
   "metadata": {
    "collapsed": false,
    "ExecuteTime": {
     "end_time": "2024-09-03T08:57:29.350411600Z",
     "start_time": "2024-09-03T08:57:29.305723700Z"
    }
   },
   "id": "23721eb48e8c6434",
   "execution_count": 3
  },
  {
   "cell_type": "code",
   "outputs": [
    {
     "name": "stdout",
     "output_type": "stream",
     "text": [
      "{1: 'a', 2: 'b', 3: 'c', 4: 'd', 5: 'e', 6: 'f', 7: 'g', 8: 'h', 9: 'i', 10: 'j', 11: 'k', 12: 'l', 13: 'm', 14: 'n', 15: 'o', 16: 'p', 17: 'q', 18: 'r', 19: 's', 20: 't', 21: 'u', 22: 'v', 23: 'w', 24: 'x', 25: 'y', 26: 'z', 0: '.'}\n",
      "27\n"
     ]
    }
   ],
   "source": [
    "# build the vocab of characters and mapping to/from integers\n",
    "chars = sorted(list(set(''.join(words))))\n",
    "stoi= {s:i+1 for i,s in enumerate(chars)}\n",
    "stoi['.'] = 0\n",
    "itos = {i:s for s,i in stoi.items()}\n",
    "print(itos)\n",
    "vocab_size = len(itos)\n",
    "print(vocab_size)"
   ],
   "metadata": {
    "collapsed": false,
    "ExecuteTime": {
     "end_time": "2024-09-03T08:57:29.464739700Z",
     "start_time": "2024-09-03T08:57:29.319975800Z"
    }
   },
   "id": "54312de1257f6946",
   "execution_count": 4
  },
  {
   "cell_type": "code",
   "outputs": [],
   "source": [
    "block_size = 3\n",
    "def build_dataset(words):\n",
    "    # build the dataset\n",
    "    \n",
    "    X,Y = [],[]\n",
    "    for w in words:\n",
    "\n",
    "        context = [0] * block_size\n",
    "        for ch in w + '.':\n",
    "            ix = stoi[ch]\n",
    "            X.append(context)\n",
    "            Y.append(ix)\n",
    "            #print(''.join(itos[i] for i in context),'--------->',itos[ix])\n",
    "            context = context[1:] + [ix]\n",
    "\n",
    "    X = torch.tensor(X)\n",
    "    Y = torch.tensor(Y)\n",
    "    return X,Y\n",
    "\n",
    "import random\n",
    "random.seed(42)\n",
    "random.shuffle(words)\n",
    "n1 = int(0.8*len(words))\n",
    "n2 = int(0.9*len(words))\n",
    "Xtr,Ytr = build_dataset(words[:n1])\n",
    "Xdev,Ydev = build_dataset(words[n1:n2])\n",
    "Xte,Yte = build_dataset(words[n2:])\n"
   ],
   "metadata": {
    "collapsed": false,
    "ExecuteTime": {
     "end_time": "2024-09-03T08:57:30.284725800Z",
     "start_time": "2024-09-03T08:57:29.594072400Z"
    }
   },
   "id": "222153910e70980",
   "execution_count": 5
  },
  {
   "cell_type": "code",
   "outputs": [
    {
     "name": "stdout",
     "output_type": "stream",
     "text": [
      "torch.Size([182625, 3]) torch.Size([182625])\n",
      "torch.Size([22655, 3]) torch.Size([22655])\n",
      "torch.Size([22866, 3]) torch.Size([22866])\n"
     ]
    }
   ],
   "source": [
    "print(Xtr.shape,Ytr.shape)\n",
    "print(Xdev.shape,Ydev.shape)\n",
    "print(Xte.shape,Yte.shape)"
   ],
   "metadata": {
    "collapsed": false,
    "ExecuteTime": {
     "end_time": "2024-09-03T08:57:30.315856600Z",
     "start_time": "2024-09-03T08:57:30.288731200Z"
    }
   },
   "id": "9acc2831f7f824c4",
   "execution_count": 6
  },
  {
   "cell_type": "code",
   "outputs": [
    {
     "name": "stdout",
     "output_type": "stream",
     "text": [
      "12297\n"
     ]
    }
   ],
   "source": [
    "n_embd = 10 # dimension of character embedding vectors\n",
    "\n",
    "n_hidden = 200\n",
    "\n",
    "g = torch.Generator().manual_seed(2147483647)\n",
    "C = torch.randn((vocab_size,n_embd),generator=g)\n",
    "W1 = torch.randn((n_embd*block_size,n_hidden),generator=g) * 0.2\n",
    "b1 = torch.randn(n_hidden,generator=g) *0.01\n",
    "W2 = torch.randn((n_hidden,vocab_size),generator=g) * 0.01\n",
    "b2 = torch.randn(vocab_size,generator=g) * 0\n",
    "\n",
    "bngain = torch.ones((1,n_hidden))\n",
    "bnbias = torch.zeros((1,n_hidden))\n",
    "\n",
    "parameters = [C,W1,b1,W2,b2,bngain,bnbias]\n",
    "print(sum(p.nelement() for p in parameters))\n",
    "for p in parameters:\n",
    "    p.requires_grad = True"
   ],
   "metadata": {
    "collapsed": false,
    "ExecuteTime": {
     "end_time": "2024-09-03T08:57:30.441460700Z",
     "start_time": "2024-09-03T08:57:30.313856100Z"
    }
   },
   "id": "792d8f6d8b741464",
   "execution_count": 7
  },
  {
   "cell_type": "code",
   "outputs": [
    {
     "name": "stdout",
     "output_type": "stream",
     "text": [
      "      0 /  200000: 3.3147\n",
      "  10000 /  200000: 2.1341\n",
      "  20000 /  200000: 2.3173\n",
      "  30000 /  200000: 2.4115\n",
      "  40000 /  200000: 2.0124\n",
      "  50000 /  200000: 2.3003\n",
      "  60000 /  200000: 2.4708\n",
      "  70000 /  200000: 2.1208\n",
      "  80000 /  200000: 2.3562\n",
      "  90000 /  200000: 2.1095\n",
      " 100000 /  200000: 1.9329\n",
      " 110000 /  200000: 2.3919\n",
      " 120000 /  200000: 1.9795\n",
      " 130000 /  200000: 2.4764\n",
      " 140000 /  200000: 2.3703\n",
      " 150000 /  200000: 2.3098\n",
      " 160000 /  200000: 2.0003\n",
      " 170000 /  200000: 1.8345\n",
      " 180000 /  200000: 2.0355\n",
      " 190000 /  200000: 1.8853\n"
     ]
    }
   ],
   "source": [
    "max_steps = 200000\n",
    "batch_size = 32\n",
    "lossi= []\n",
    "for i in range(max_steps):\n",
    "    # mini-batch construct\n",
    "    ix = torch.randint(0,Xtr.shape[0],(batch_size,),generator=g)\n",
    "    Xb,Yb = Xtr[ix],Ytr[ix]\n",
    "    \n",
    "    # forward pass\n",
    "    emb = C[Xb] # characters embeddings\n",
    "    embcat = emb.view(emb.shape[0],-1)\n",
    "    hpreact = embcat @ W1 + b1 # hidden layer before activation\n",
    "    \n",
    "    hpreact = bngain*(hpreact-hpreact.mean(0,keepdim=True)) / hpreact.std(0,keepdim=True) + bnbias\n",
    "    h = torch.tanh(hpreact)\n",
    "    logits = h @ W2 + b2 #output layer\n",
    "    loss = F.cross_entropy(logits,Yb) # loss function\n",
    "    \n",
    "    # backward pass\n",
    "    for p in parameters:\n",
    "        p.grad = None\n",
    "    loss.backward()\n",
    "    \n",
    "    \n",
    "    # update\n",
    "    lr = 0.1 if i < 100000 else 0.01 # step learning rate decay\n",
    "    for p in parameters:\n",
    "        p.data += -lr * p.grad\n",
    "    \n",
    "    # track stats\n",
    "    \n",
    "    if i % 10000 == 0: # print\n",
    "        print(f'{i:7d} / {max_steps:7d}: {loss.item():.4f}')\n",
    "    lossi.append(loss.log10().item)\n",
    "    \n",
    "    \n",
    "    "
   ],
   "metadata": {
    "collapsed": false,
    "ExecuteTime": {
     "end_time": "2024-09-03T09:30:23.904726800Z",
     "start_time": "2024-09-03T09:28:01.000558400Z"
    }
   },
   "id": "eef37bcb338408c4",
   "execution_count": 9
  },
  {
   "cell_type": "code",
   "outputs": [
    {
     "data": {
      "text/plain": "torch.Size([32, 200])"
     },
     "execution_count": 10,
     "metadata": {},
     "output_type": "execute_result"
    }
   ],
   "source": [
    "hpreact.shape"
   ],
   "metadata": {
    "collapsed": false,
    "ExecuteTime": {
     "end_time": "2024-09-03T09:30:39.142031200Z",
     "start_time": "2024-09-03T09:30:39.096936700Z"
    }
   },
   "id": "4cce945d52acc027",
   "execution_count": 10
  },
  {
   "cell_type": "code",
   "outputs": [],
   "source": [
    "##### Kendim denedim\n",
    "a = logits[0]\n",
    "b = a *0.01\n",
    "print(a)\n",
    "print(b)\n",
    "counts_a= a.exp()\n",
    "counts_b= b.exp()\n",
    "probs_a = counts_a / counts_a.sum()\n",
    "probs_b = counts_b / counts_b.sum()\n",
    "print(probs_a)\n",
    "print(-probs_a[12].log())\n",
    "print(probs_b)\n",
    "print(-probs_b[12].log())"
   ],
   "metadata": {
    "collapsed": false,
    "ExecuteTime": {
     "start_time": "2024-09-03T08:57:31.572367200Z"
    }
   },
   "id": "2db5644d056bace9",
   "execution_count": null
  },
  {
   "cell_type": "code",
   "outputs": [],
   "source": [
    "@torch.no_grad() # this decorator disables gradient tracking\n",
    "def split_loss(split):\n",
    "    x,y = {\n",
    "        'train':(Xtr,Ytr),\n",
    "        'val':(Xdev,Ydev),\n",
    "        'test':(Xte,Yte)\n",
    "    }[split]\n",
    "    emb = C[x]\n",
    "    embcat = emb.view(emb.shape[0],-1)\n",
    "    hpreact = embcat @ W1 + b1\n",
    "    hpreact =bngain*(hpreact-hpreact.mean(0,keepdim=True)) / hpreact.std(0,keepdim=True) + bnbias\n",
    "    h = torch.tanh(embcat @ W1 + b1)\n",
    "    logits = h @ W2 + b2\n",
    "    loss = F.cross_entropy(logits,y)\n",
    "    print(loss.item())\n",
    "\n",
    "split_loss('train')\n",
    "split_loss('val')\n",
    "    "
   ],
   "metadata": {
    "collapsed": false,
    "ExecuteTime": {
     "end_time": "2024-09-03T08:57:31.579402500Z",
     "start_time": "2024-09-03T08:57:31.576397300Z"
    }
   },
   "id": "fae9210bcde1fd8f",
   "execution_count": null
  },
  {
   "cell_type": "code",
   "outputs": [],
   "source": [
    "# sample from the model\n",
    "g = torch.Generator().manual_seed(2147483647 + 10)\n",
    "\n",
    "for _ in range(20):\n",
    "\n",
    "    out = []\n",
    "    context = [0] * block_size # initialize with all ...\n",
    "    while True:\n",
    "        emb = C[torch.tensor([context])] # (1,block_size,d)\n",
    "        h = torch.tanh(emb.view(1, -1) @ W1 + b1)\n",
    "        logits = h @ W2 + b2\n",
    "        probs = F.softmax(logits, dim=1)\n",
    "        ix = torch.multinomial(probs, num_samples=1, generator=g).item()\n",
    "        context = context[1:] + [ix]\n",
    "        out.append(ix)\n",
    "        if ix == 0:\n",
    "            break\n",
    "\n",
    "    print(''.join(itos[i] for i in out))"
   ],
   "metadata": {
    "collapsed": false,
    "ExecuteTime": {
     "start_time": "2024-09-03T08:57:31.579402500Z"
    }
   },
   "id": "944a6f3c0e51db1a",
   "execution_count": null
  },
  {
   "cell_type": "code",
   "outputs": [],
   "source": [],
   "metadata": {
    "collapsed": false,
    "ExecuteTime": {
     "end_time": "2024-09-03T08:57:31.650778300Z",
     "start_time": "2024-09-03T08:57:31.582396100Z"
    }
   },
   "id": "efebbe2ec8759d40",
   "execution_count": null
  },
  {
   "cell_type": "code",
   "outputs": [],
   "source": [],
   "metadata": {
    "collapsed": false,
    "ExecuteTime": {
     "start_time": "2024-09-03T08:57:31.585394900Z"
    }
   },
   "id": "9d884fa5fb70930d"
  }
 ],
 "metadata": {
  "kernelspec": {
   "display_name": "Python 3",
   "language": "python",
   "name": "python3"
  },
  "language_info": {
   "codemirror_mode": {
    "name": "ipython",
    "version": 2
   },
   "file_extension": ".py",
   "mimetype": "text/x-python",
   "name": "python",
   "nbconvert_exporter": "python",
   "pygments_lexer": "ipython2",
   "version": "2.7.6"
  }
 },
 "nbformat": 4,
 "nbformat_minor": 5
}
